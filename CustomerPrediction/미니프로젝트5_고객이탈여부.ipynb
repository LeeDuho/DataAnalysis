{
 "cells": [
  {
   "cell_type": "markdown",
   "id": "1f32dd86-1670-4327-bfe9-9d99b93a5d9c",
   "metadata": {},
   "source": [
    "**AIVLE School 미니프로젝트**\n",
    "### **통신 서비스 이용 고객의 <span style=\"color:darkgreen\">이탈 여부</span> 예측 문제**\n",
    "---"
   ]
  },
  {
   "cell_type": "markdown",
   "id": "e39fd6a0-05d7-4def-b5c1-6517ba575080",
   "metadata": {},
   "source": [
    "<br>"
   ]
  },
  {
   "cell_type": "markdown",
   "id": "1951fedb-3724-418c-8de8-ac69b120d310",
   "metadata": {
    "tags": []
   },
   "source": [
    "#### **<span style=\"color:red\">[미션 안내]</span>**\n",
    "* 고객 관련 데이터를 분석한 후 고객의 서비스 중단 또는 경쟁업체로의 이탈 여부를 예측하는 머신러닝, 딥러닝 모델을 만들고 결과를 예측하세요."
   ]
  },
  {
   "cell_type": "markdown",
   "id": "07c798aa-1b49-4dae-af82-dd853b9e7886",
   "metadata": {
    "tags": []
   },
   "source": [
    "#### **<span style=\"color:red\">[유의 사항]</span>**\n",
    "* 각 문항의 답안코드는 반드시 '#여기에 답안코드를 작성하세요'로 표시된 cell에 작성해야 합니다.\n",
    "* 제공된 cell을 추가/삭제하고 다른 cell에 답안코드를 작성 시 채점되지 않습니다.\n",
    "* 반드시 문제에 제시된 가이드를 읽고 답안 작성하세요.\n",
    "* 문제에 변수명이 제시된 경우 반드시 해당 변수명을 사용하세요.\n",
    "* 문제와 데이터는 제3자에게 공유하거나 개인적인 용도로 사용하는 등 외부로 유출할 수 없으며 유출로 인한 책임은 응시자 본인에게 있습니다."
   ]
  },
  {
   "cell_type": "markdown",
   "id": "c5497ce1-0a73-4c4f-8695-0938a0c9505d",
   "metadata": {
    "id": "Jt8N_9ybzt58"
   },
   "source": [
    "#### **<span style=\"color:red\">[데이터 컬럼]</span>**\n",
    "1. CustomerID: 고객ID\n",
    "2. gender: 성별\n",
    "3. SeniorCitizen: 고령자 여부 (1, 0)\n",
    "4. Partner: 배우자가 있는 지 여부 (Yes, No)\n",
    "5. Dependents: 부양가족 여부 (Yes, No)\n",
    "6. Tenure: 서비스 사용 개월수\n",
    "7. PhoneService: 폰서비스 이용여부 (Yes, No)\n",
    "8. MultipleLines: 다회선 이용여부 (Yes, No, No phone service)\n",
    "9. InternetService: 인터넷 서비스 제공업체 (DSL, Fiber optic, No)\n",
    "10. OnlineSecurity: 온라인 보안 이용여부 (Yes, No, No internet service)\n",
    "11. OnlineBackup:온라인 백업 이용여부 (Yes, No, No internet service)\n",
    "12. DeviceProtection: 디바이스 보호 이용여부 (Yes, No, No internet service)\n",
    "13. TechSupport: 기술지원 이용여부 (Yes, No, No internet service)\n",
    "14. StreamingTV: 스트리밍TV 이용여부 (Yes, No, No internet service)\n",
    "15. StreamingMovies: 스트리밍 영화 이용여부 (Yes, No, No internet service)\n",
    "16. Contract: 접촉 주기 (Month-to-month, One year, Two years)\n",
    "17. PaperlessBilling: 온라인 빌링 이용여부 (Yes, No)\n",
    "18. PaymentMethod: 요금납부방법 (Electronic check, Mailed check, Bank transfer (automatic), Credit card (automatic))\n",
    "19. MonthlyCharges: 월 이용요금\n",
    "20. TotalCharges: 총 이용요금\n",
    "21. Churn: 이탈여부 (Yes or No)"
   ]
  },
  {
   "cell_type": "markdown",
   "id": "f2e1c59a-e306-45f5-90d0-252e63994de8",
   "metadata": {},
   "source": [
    "<br>"
   ]
  },
  {
   "cell_type": "markdown",
   "id": "cb429a27-f439-4323-a69f-aa554cebeb5f",
   "metadata": {},
   "source": [
    "### 1. scikit-learn 패키지는 머신러닝 교육을 위한 최고의 파이썬 패키지입니다.\n",
    "### scikit-learn를 별칭(alias) sk로 임포트하는 코드를 작성하고 실행하세요."
   ]
  },
  {
   "cell_type": "code",
   "execution_count": 2,
   "id": "78bfda52-7125-4bf4-99cc-a49888f3557b",
   "metadata": {},
   "outputs": [],
   "source": [
    "# 여기에 답안코드를 작성하세요.\n",
    "import sklearn as sk"
   ]
  },
  {
   "cell_type": "markdown",
   "id": "7d66e4d1-6a30-484d-920e-772b815f50c7",
   "metadata": {},
   "source": [
    "<br>"
   ]
  },
  {
   "cell_type": "markdown",
   "id": "d792db90-2273-4eef-a0f2-3cb37d2edf7c",
   "metadata": {},
   "source": [
    "### 2. Numpy를 사용할 수 있도록 별칭(alias)을 pd로 해서 불러오세요."
   ]
  },
  {
   "cell_type": "code",
   "execution_count": 3,
   "id": "771f7972-0473-4db8-8797-95ddc19017fc",
   "metadata": {},
   "outputs": [],
   "source": [
    "# 여기에 답안코드를 작성하세요.\n",
    "import numpy as np\n",
    "import pandas as pd"
   ]
  },
  {
   "cell_type": "markdown",
   "id": "326a5dea-8170-4655-a4c6-ed1d3e4a1718",
   "metadata": {},
   "source": [
    "<br>"
   ]
  },
  {
   "cell_type": "markdown",
   "id": "55ced9e0-391e-4169-acd5-2165cd5b3ee0",
   "metadata": {},
   "source": [
    "### 3. 모델링을 위해 분석 및 처리할 데이터 파일을 읽어오려고 합니다.\n",
    "### Pandas함수로 데이터 파일을 읽어 데이터프레임 변수명 df에 할당하는 코드를 작성하세요.\n",
    "* churn_data.csv 파일을 읽어 데이터 프레임 변수명 df에 할당하세요."
   ]
  },
  {
   "cell_type": "code",
   "execution_count": 4,
   "id": "dbc291ca-4629-4beb-be81-1633aa8e62b2",
   "metadata": {},
   "outputs": [],
   "source": [
    "# 여기에 답안코드를 작성하세요.\n",
    "df = pd.read_csv(\"churn_data.csv\")"
   ]
  },
  {
   "cell_type": "markdown",
   "id": "6a34284c-1724-4326-8079-b823f1e9b08b",
   "metadata": {},
   "source": [
    "<br>"
   ]
  },
  {
   "cell_type": "markdown",
   "id": "a1c7f855-339a-4600-a87d-64a5525edcc8",
   "metadata": {},
   "source": [
    "### 4. df에서 불필요한 customerID 컬럼을 삭제하고 df1에 저장하세요."
   ]
  },
  {
   "cell_type": "code",
   "execution_count": 5,
   "id": "865d5d47-ce7e-4536-828f-b9d5ab804780",
   "metadata": {
    "tags": []
   },
   "outputs": [],
   "source": [
    "# 여기에 답안코드를 작성하세요.\n",
    "\n",
    "df1 = df.drop('customerID', axis=1)"
   ]
  },
  {
   "cell_type": "markdown",
   "id": "594967e8-9231-4671-a88e-7b54898ffa4e",
   "metadata": {},
   "source": [
    "<br>"
   ]
  },
  {
   "cell_type": "markdown",
   "id": "ff6b633c-fbb2-40d1-982e-5e57daac66cc",
   "metadata": {},
   "source": [
    "### 5. df1의 TotalCharges 컬럼의 타입을 float로 변경하세요.\n",
    "* TotalCharge의 컬럼 타입을 확인하는 코드를 작성하세요.\n",
    "* ' ' 값을 0으로 변환하고 컬럼 타입을 float로 변경하세요.\n",
    "* 전처리 후 데이터를 df2에 저장하세요."
   ]
  },
  {
   "cell_type": "code",
   "execution_count": 6,
   "id": "23c0e7e5-c4e7-42e8-9258-2bd3fb7a1551",
   "metadata": {},
   "outputs": [],
   "source": [
    "# 여기에 답안코드를 작성하세요.\n",
    "\n",
    "df1['TotalCharges'].replace(' ', 0, inplace=True)\n",
    "df1['TotalCharges'] = df1['TotalCharges'].astype('float')\n",
    "df2 = df1"
   ]
  },
  {
   "cell_type": "markdown",
   "id": "7c3d46d9-2a4a-49ce-ace2-b007933c2a53",
   "metadata": {},
   "source": [
    "<br>"
   ]
  },
  {
   "cell_type": "markdown",
   "id": "c7ba7823-db7b-409c-91a2-13519680b52c",
   "metadata": {},
   "source": [
    "### 6. df2에서 churn 컬럼의 데이터별 개수를 확인하는 코드를 작성하고 \n",
    "### Yes, No를 각각 1, 0으로 변환한 후 df3에 저장하세요."
   ]
  },
  {
   "cell_type": "code",
   "execution_count": 7,
   "id": "414a676e-0392-4e52-a8fa-bc4dd71482b8",
   "metadata": {},
   "outputs": [
    {
     "name": "stdout",
     "output_type": "stream",
     "text": [
      "No     5174\n",
      "Yes    1869\n",
      "Name: Churn, dtype: int64\n"
     ]
    }
   ],
   "source": [
    "# 여기에 답안코드를 작성하세요.\n",
    "\n",
    "print(df2['Churn'].value_counts())\n",
    "df2['Churn'].replace({'Yes': 1, 'No': 0}, inplace=True)\n",
    "df3 = df2"
   ]
  },
  {
   "cell_type": "markdown",
   "id": "43d2735b-8ba6-44c9-9e08-6c53002f1b46",
   "metadata": {},
   "source": [
    "<br>"
   ]
  },
  {
   "cell_type": "markdown",
   "id": "f086ac8c-cef8-4944-a518-81fc042b1444",
   "metadata": {},
   "source": [
    "### 7. df3의 모든 컬럼에 대해 결측치를 확인하는 코드를 작성하고 결측치를 처리하세요.\n",
    "* 결측치가 40% 이상인 컬럼은 컬럼을 삭제하세요.\n",
    "* 결측치가 40% 미만인 컬럼은 결측치가 있는 row를 삭제하세요.\n",
    "* 전처리한 데이터를 df4에 저장하세요."
   ]
  },
  {
   "cell_type": "code",
   "execution_count": 8,
   "id": "ccc8da5a-221a-4c13-ab4e-792264ea48a8",
   "metadata": {},
   "outputs": [],
   "source": [
    "# 여기에 답안코드를 작성하세요.\n",
    "\n",
    "na_data = pd.DataFrame(df3.isna().sum() / len(df3) * 100, columns=['na_ratio'])\n",
    "more_40_idx = na_data.loc[na_data['na_ratio'] >= 40].index[0]\n",
    "df3.drop(more_40_idx, axis=1, inplace=True)\n",
    "\n",
    "df4 = df3.dropna(axis=0)"
   ]
  },
  {
   "cell_type": "markdown",
   "id": "46c64f89-a3ee-45d7-94f4-5ede4c6d6e92",
   "metadata": {},
   "source": [
    "<br>"
   ]
  },
  {
   "cell_type": "markdown",
   "id": "590a5dfe-8ebf-4fdc-9c6b-f3b03fc57890",
   "metadata": {},
   "source": [
    "### 8. df4에서 SeniorCitizen 컬럼을 bar 차트로 확인해보고 불균형을 확인해보세요. \n",
    "### SeniorCitizen 컬럼은 불균형이 심하므로 삭제하세요."
   ]
  },
  {
   "cell_type": "code",
   "execution_count": 21,
   "id": "7573f7e1-eeb9-436b-8fb4-af7ba4872782",
   "metadata": {},
   "outputs": [
    {
     "data": {
      "image/png": "[encoded data removed]",
      "text/plain": [
       "<Figure size 640x480 with 1 Axes>"
      ]
     },
     "metadata": {},
     "output_type": "display_data"
    },
    {
     "name": "stderr",
     "output_type": "stream",
     "text": [
      "C:\\Users\\gkwjd\\AppData\\Local\\Temp\\ipykernel_39172\\212751532.py:8: SettingWithCopyWarning: \n",
      "A value is trying to be set on a copy of a slice from a DataFrame\n",
      "\n",
      "See the caveats in the documentation: https://pandas.pydata.org/pandas-docs/stable/user_guide/indexing.html#returning-a-view-versus-a-copy\n",
      "  df4.drop('SeniorCitizen', axis=1, inplace=True)\n"
     ]
    }
   ],
   "source": [
    "# 여기에 답안코드를 작성하세요.\n",
    "import seaborn as sns\n",
    "import matplotlib.pyplot as plt\n",
    "\n",
    "sns.barplot(x=df4['SeniorCitizen'].value_counts().index, y=df4['SeniorCitizen'].value_counts().values)\n",
    "plt.show()\n",
    "\n",
    "df4.drop('SeniorCitizen', axis=1, inplace=True)"
   ]
  },
  {
   "cell_type": "markdown",
   "id": "9db815d3-4725-42e4-a34d-a693ef160dc4",
   "metadata": {},
   "source": [
    "<br>"
   ]
  },
  {
   "cell_type": "code",
   "execution_count": 32,
   "id": "d0bb17fe",
   "metadata": {},
   "outputs": [
    {
     "name": "stdout",
     "output_type": "stream",
     "text": [
      "<class 'pandas.core.frame.DataFrame'>\n",
      "Int64Index: 7027 entries, 1 to 7041\n",
      "Data columns (total 18 columns):\n",
      " #   Column            Non-Null Count  Dtype  \n",
      "---  ------            --------------  -----  \n",
      " 0   gender            7027 non-null   object \n",
      " 1   Partner           7027 non-null   object \n",
      " 2   Dependents        7027 non-null   object \n",
      " 3   tenure            7027 non-null   int64  \n",
      " 4   PhoneService      7027 non-null   object \n",
      " 5   MultipleLines     7027 non-null   object \n",
      " 6   InternetService   7027 non-null   object \n",
      " 7   OnlineSecurity    7027 non-null   object \n",
      " 8   OnlineBackup      7027 non-null   object \n",
      " 9   TechSupport       7027 non-null   object \n",
      " 10  StreamingTV       7027 non-null   object \n",
      " 11  StreamingMovies   7027 non-null   object \n",
      " 12  Contract          7027 non-null   object \n",
      " 13  PaperlessBilling  7027 non-null   object \n",
      " 14  PaymentMethod     7027 non-null   object \n",
      " 15  MonthlyCharges    7027 non-null   float64\n",
      " 16  TotalCharges      7027 non-null   float64\n",
      " 17  Churn             7027 non-null   int64  \n",
      "dtypes: float64(2), int64(2), object(14)\n",
      "memory usage: 1.3+ MB\n"
     ]
    }
   ],
   "source": [
    "df4.info()"
   ]
  },
  {
   "cell_type": "markdown",
   "id": "2364a91e-b4d4-4471-8171-82cd7a87cb25",
   "metadata": {},
   "source": [
    "### 9. df4에서 다음의 가이드에 따라 데이터를 시각화 해보세요.\n",
    "* tenure (서비스 사용기간)에 대해 히스토그램으로 시각화 하세요.\n",
    "* tenure를 x 값으로 churn을 hue 값으로 사용하여 kdeplot으로 시각화 하고 '서비스 사용기간이 길어질 수록 이탈이 적다'에 대해 'O'인지 'X'인지 출력하세요.\n",
    "* MultipleLines에 대해 countplot을 그리고 churn을 hue 값으로 사용하여 countplot으로 시각화 하고 'MultipleLines 서비스를 사용하는 고객이 약간 더 높은 이탈율을 보인다'에 대해 'O'인지 'X'인지 출력하세요.\n",
    "* 'tenure','MonthlyCharges','TotalCharges' 컬럼간의 상관관계를 확인하여 heatmap으로 시각화하고 가장 높은 상관계수 값을 출력하세요."
   ]
  },
  {
   "cell_type": "code",
   "execution_count": 34,
   "id": "a44e2fa4",
   "metadata": {},
   "outputs": [
    {
     "data": {
      "text/html": [
       "<div>\n",
       "<style scoped>\n",
       "    .dataframe tbody tr th:only-of-type {\n",
       "        vertical-align: middle;\n",
       "    }\n",
       "\n",
       "    .dataframe tbody tr th {\n",
       "        vertical-align: top;\n",
       "    }\n",
       "\n",
       "    .dataframe thead th {\n",
       "        text-align: right;\n",
       "    }\n",
       "</style>\n",
       "<table border=\"1\" class=\"dataframe\">\n",
       "  <thead>\n",
       "    <tr style=\"text-align: right;\">\n",
       "      <th></th>\n",
       "      <th>tenure</th>\n",
       "      <th>MonthlyCharges</th>\n",
       "      <th>TotalCharges</th>\n",
       "    </tr>\n",
       "  </thead>\n",
       "  <tbody>\n",
       "    <tr>\n",
       "      <th>tenure</th>\n",
       "      <td>1.000000</td>\n",
       "      <td>0.247630</td>\n",
       "      <td>0.826172</td>\n",
       "    </tr>\n",
       "    <tr>\n",
       "      <th>MonthlyCharges</th>\n",
       "      <td>0.247630</td>\n",
       "      <td>1.000000</td>\n",
       "      <td>0.651049</td>\n",
       "    </tr>\n",
       "    <tr>\n",
       "      <th>TotalCharges</th>\n",
       "      <td>0.826172</td>\n",
       "      <td>0.651049</td>\n",
       "      <td>1.000000</td>\n",
       "    </tr>\n",
       "  </tbody>\n",
       "</table>\n",
       "</div>"
      ],
      "text/plain": [
       "                  tenure  MonthlyCharges  TotalCharges\n",
       "tenure          1.000000        0.247630      0.826172\n",
       "MonthlyCharges  0.247630        1.000000      0.651049\n",
       "TotalCharges    0.826172        0.651049      1.000000"
      ]
     },
     "execution_count": 34,
     "metadata": {},
     "output_type": "execute_result"
    }
   ],
   "source": []
  },
  {
   "cell_type": "code",
   "execution_count": 36,
   "id": "5bb1f09a-cb22-4ade-b3d9-47fa7eab841a",
   "metadata": {},
   "outputs": [
    {
     "data": {
      "image/png": "[encoded data removed]",
      "text/plain": [
       "<Figure size 640x480 with 1 Axes>"
      ]
     },
     "metadata": {},
     "output_type": "display_data"
    },
    {
     "data": {
      "image/png": "[encoded data removed]",
      "text/plain": [
       "<Figure size 640x480 with 1 Axes>"
      ]
     },
     "metadata": {},
     "output_type": "display_data"
    },
    {
     "data": {
      "image/png": "[encoded data removed]",
      "text/plain": [
       "<Figure size 640x480 with 1 Axes>"
      ]
     },
     "metadata": {},
     "output_type": "display_data"
    },
    {
     "data": {
      "image/png": "[encoded data removed]",
      "text/plain": [
       "<Figure size 640x480 with 1 Axes>"
      ]
     },
     "metadata": {},
     "output_type": "display_data"
    }
   ],
   "source": [
    "# 여기에 답안코드를 작성하세요.\n",
    "\n",
    "sns.histplot(df4['tenure'])\n",
    "plt.show()\n",
    "\n",
    "sns.kdeplot(x='tenure', hue='Churn', data=df4)\n",
    "plt.show()\n",
    "# 서비스 사용기간이 길어질 수록 이탈이 적다 : O\n",
    "\n",
    "sns.countplot(x='MultipleLines', hue='Churn', data=df4)\n",
    "plt.show()\n",
    "# MultiploeLines 서비스를 사용하는 고객이 약간 더 높은 이탈율을 보인다 : 이탈율이니까 O\n",
    "\n",
    "corr_map = df4[['tenure', 'MonthlyCharges', 'TotalCharges']].corr()\n",
    "sns.heatmap(corr_map,\n",
    "            annot=True,\n",
    "            fmt='.3f',\n",
    "            cmap='Blues',\n",
    "            cbar=False,\n",
    "            vmin=-1, vmax=1,\n",
    "            square=True)\n",
    "plt.show()"
   ]
  },
  {
   "cell_type": "markdown",
   "id": "4266bd53-b060-4355-b473-c051cbbc908e",
   "metadata": {},
   "source": [
    "<br>"
   ]
  },
  {
   "cell_type": "markdown",
   "id": "6b01b0e7-30e3-4a64-8e6a-1e45507a8262",
   "metadata": {},
   "source": [
    "### 10. df4에서 컬럼의 데이터 타입이 object인 컬럼들을 원-핫 인코딩하세요.\n",
    "* 컬럼의 데이터 타입이 object인 컬럼들을 object_cols 변수에 저장하세요.\n",
    "* object_cols 변수의 컬럼들을 원-핫 인코딩하세요.\n",
    "* 전처리된 데이터를 df5에 저장하세요."
   ]
  },
  {
   "cell_type": "code",
   "execution_count": 44,
   "id": "da848455-7b93-47fd-8ac4-d844b2a4e7be",
   "metadata": {
    "tags": []
   },
   "outputs": [
    {
     "data": {
      "text/html": [
       "<div>\n",
       "<style scoped>\n",
       "    .dataframe tbody tr th:only-of-type {\n",
       "        vertical-align: middle;\n",
       "    }\n",
       "\n",
       "    .dataframe tbody tr th {\n",
       "        vertical-align: top;\n",
       "    }\n",
       "\n",
       "    .dataframe thead th {\n",
       "        text-align: right;\n",
       "    }\n",
       "</style>\n",
       "<table border=\"1\" class=\"dataframe\">\n",
       "  <thead>\n",
       "    <tr style=\"text-align: right;\">\n",
       "      <th></th>\n",
       "      <th>tenure</th>\n",
       "      <th>MonthlyCharges</th>\n",
       "      <th>TotalCharges</th>\n",
       "      <th>Churn</th>\n",
       "      <th>gender_Male</th>\n",
       "      <th>Partner_Yes</th>\n",
       "      <th>Dependents_Yes</th>\n",
       "      <th>PhoneService_Yes</th>\n",
       "      <th>MultipleLines_No phone service</th>\n",
       "      <th>MultipleLines_Yes</th>\n",
       "      <th>...</th>\n",
       "      <th>StreamingTV_No internet service</th>\n",
       "      <th>StreamingTV_Yes</th>\n",
       "      <th>StreamingMovies_No internet service</th>\n",
       "      <th>StreamingMovies_Yes</th>\n",
       "      <th>Contract_One year</th>\n",
       "      <th>Contract_Two year</th>\n",
       "      <th>PaperlessBilling_Yes</th>\n",
       "      <th>PaymentMethod_Credit card (automatic)</th>\n",
       "      <th>PaymentMethod_Electronic check</th>\n",
       "      <th>PaymentMethod_Mailed check</th>\n",
       "    </tr>\n",
       "  </thead>\n",
       "  <tbody>\n",
       "    <tr>\n",
       "      <th>1</th>\n",
       "      <td>34</td>\n",
       "      <td>56.95</td>\n",
       "      <td>1889.50</td>\n",
       "      <td>0</td>\n",
       "      <td>1</td>\n",
       "      <td>0</td>\n",
       "      <td>0</td>\n",
       "      <td>1</td>\n",
       "      <td>0</td>\n",
       "      <td>0</td>\n",
       "      <td>...</td>\n",
       "      <td>0</td>\n",
       "      <td>0</td>\n",
       "      <td>0</td>\n",
       "      <td>0</td>\n",
       "      <td>1</td>\n",
       "      <td>0</td>\n",
       "      <td>0</td>\n",
       "      <td>0</td>\n",
       "      <td>0</td>\n",
       "      <td>1</td>\n",
       "    </tr>\n",
       "    <tr>\n",
       "      <th>2</th>\n",
       "      <td>2</td>\n",
       "      <td>53.85</td>\n",
       "      <td>108.15</td>\n",
       "      <td>1</td>\n",
       "      <td>1</td>\n",
       "      <td>0</td>\n",
       "      <td>0</td>\n",
       "      <td>1</td>\n",
       "      <td>0</td>\n",
       "      <td>0</td>\n",
       "      <td>...</td>\n",
       "      <td>0</td>\n",
       "      <td>0</td>\n",
       "      <td>0</td>\n",
       "      <td>0</td>\n",
       "      <td>0</td>\n",
       "      <td>0</td>\n",
       "      <td>1</td>\n",
       "      <td>0</td>\n",
       "      <td>0</td>\n",
       "      <td>1</td>\n",
       "    </tr>\n",
       "    <tr>\n",
       "      <th>3</th>\n",
       "      <td>45</td>\n",
       "      <td>42.30</td>\n",
       "      <td>1840.75</td>\n",
       "      <td>0</td>\n",
       "      <td>1</td>\n",
       "      <td>0</td>\n",
       "      <td>0</td>\n",
       "      <td>0</td>\n",
       "      <td>1</td>\n",
       "      <td>0</td>\n",
       "      <td>...</td>\n",
       "      <td>0</td>\n",
       "      <td>0</td>\n",
       "      <td>0</td>\n",
       "      <td>0</td>\n",
       "      <td>1</td>\n",
       "      <td>0</td>\n",
       "      <td>0</td>\n",
       "      <td>0</td>\n",
       "      <td>0</td>\n",
       "      <td>0</td>\n",
       "    </tr>\n",
       "  </tbody>\n",
       "</table>\n",
       "<p>3 rows × 28 columns</p>\n",
       "</div>"
      ],
      "text/plain": [
       "   tenure  MonthlyCharges  TotalCharges  Churn  gender_Male  Partner_Yes  \\\n",
       "1      34           56.95       1889.50      0            1            0   \n",
       "2       2           53.85        108.15      1            1            0   \n",
       "3      45           42.30       1840.75      0            1            0   \n",
       "\n",
       "   Dependents_Yes  PhoneService_Yes  MultipleLines_No phone service  \\\n",
       "1               0                 1                               0   \n",
       "2               0                 1                               0   \n",
       "3               0                 0                               1   \n",
       "\n",
       "   MultipleLines_Yes  ...  StreamingTV_No internet service  StreamingTV_Yes  \\\n",
       "1                  0  ...                                0                0   \n",
       "2                  0  ...                                0                0   \n",
       "3                  0  ...                                0                0   \n",
       "\n",
       "   StreamingMovies_No internet service  StreamingMovies_Yes  \\\n",
       "1                                    0                    0   \n",
       "2                                    0                    0   \n",
       "3                                    0                    0   \n",
       "\n",
       "   Contract_One year  Contract_Two year  PaperlessBilling_Yes  \\\n",
       "1                  1                  0                     0   \n",
       "2                  0                  0                     1   \n",
       "3                  1                  0                     0   \n",
       "\n",
       "   PaymentMethod_Credit card (automatic)  PaymentMethod_Electronic check  \\\n",
       "1                                      0                               0   \n",
       "2                                      0                               0   \n",
       "3                                      0                               0   \n",
       "\n",
       "   PaymentMethod_Mailed check  \n",
       "1                           1  \n",
       "2                           1  \n",
       "3                           0  \n",
       "\n",
       "[3 rows x 28 columns]"
      ]
     },
     "execution_count": 44,
     "metadata": {},
     "output_type": "execute_result"
    }
   ],
   "source": [
    "# 여기에 답안코드를 작성하세요.\n",
    "\n",
    "object_cols = df4.dtypes.loc[df4.dtypes.values == 'O'].index.tolist()\n",
    "df5 = pd.get_dummies(data=df4, columns=object_cols, drop_first=True)\n",
    "df5.head(3)"
   ]
  },
  {
   "cell_type": "markdown",
   "id": "a0f356a6-f40f-45e2-a559-d5d04e75ea3f",
   "metadata": {},
   "source": [
    "<br>"
   ]
  },
  {
   "cell_type": "markdown",
   "id": "8fb3c92a-4027-4076-bdb0-6f3bda7da917",
   "metadata": {},
   "source": [
    "### 11. df5에 대해 Scikit-learn의 train_test_split 함수로 훈련, 검증 데이터를 분리하세요.\n",
    "* 입력 : X, y (y에는 churn을 저장하고 X에는 churn을 제외한 나머지를 저장하세요)\n",
    "* Train : Test 비율 = 8:2\n",
    "* y Class 비율에 맞게 나누는 옵션을 추가하세요.\n",
    "* random_state=42 로 설정하세요.\n",
    "* 결과 : X_train, X_valid, y_train, y_valid에 저장하세요."
   ]
  },
  {
   "cell_type": "code",
   "execution_count": 88,
   "id": "8901a3f2-3839-4831-afeb-fd2877eef954",
   "metadata": {},
   "outputs": [],
   "source": [
    "# 여기에 답안코드를 작성하세요.\n",
    "from sklearn.model_selection import train_test_split\n",
    "\n",
    "X = df5.drop('Churn', axis=1)\n",
    "y = df5.loc[:, 'Churn']\n",
    "\n",
    "X_train, X_valid, y_train, y_valid = train_test_split(X, y, test_size=0.2, stratify=y, random_state=42)"
   ]
  },
  {
   "cell_type": "markdown",
   "id": "c42fb023-9864-4471-8a45-44fdbfd35e93",
   "metadata": {},
   "source": [
    "<br>"
   ]
  },
  {
   "cell_type": "markdown",
   "id": "1ccbcefa-d9b4-454f-b82a-f755d5f16283",
   "metadata": {},
   "source": [
    "### 12. MinMaxScaler 함수를 'scaler'로 정의하고 데이터를 정규화하세요."
   ]
  },
  {
   "cell_type": "code",
   "execution_count": 89,
   "id": "8a8b9d20-a680-4000-9b3a-aadfe5d6cb02",
   "metadata": {},
   "outputs": [],
   "source": [
    "# 여기에 답안코드를 작성하세요.\n",
    "\n",
    "from sklearn.preprocessing import MinMaxScaler\n",
    "\n",
    "scaler = MinMaxScaler()\n",
    "\n",
    "X_train = scaler.fit_transform(X_train)\n",
    "X_valid = scaler.transform(X_valid)"
   ]
  },
  {
   "cell_type": "markdown",
   "id": "ca8e3bcd-70a1-41fe-b050-2a7b3d97280b",
   "metadata": {
    "tags": []
   },
   "source": [
    "<br>"
   ]
  },
  {
   "cell_type": "markdown",
   "id": "e897fb3e-1364-4445-ac10-920f82ae4232",
   "metadata": {},
   "source": [
    "### 13. 고객 이탈 여부를 예측하는 머신러닝 모델을 만들려고 합니다.\n",
    "### 아래 가이드에 따라 모델링하고 학습을 진행하세요.\n",
    "* LogisticRegression 모델 정의하고 학습시키세요. \n",
    "* KNN으로 모델을 정의하고 학습시키세요. (n_neighbors=5)\n",
    "* Decision Tree로 모델을 정의하고 학습시키세요. (max_depth=10, random_state=42)\n",
    "* RandomForest로 모델을 정의하고 학습시키세요. (n_estimators=3, random_state=42)\n",
    "* XGBoost로 모델을 정의하고 학습시키세요. (n_estimators=3, random_state=42)  \n",
    "* Light GBM으로 모델을 정의하고 학습시키세요. (n_estimators=3, random_state=42)  \n",
    "* 각각 다른 셀에 답안코드를 작성하세요."
   ]
  },
  {
   "cell_type": "code",
   "execution_count": 90,
   "id": "3f9afe4d-fc0a-4fef-a644-3e72dd03aee9",
   "metadata": {},
   "outputs": [
    {
     "data": {
      "text/plain": [
       "LogisticRegression()"
      ]
     },
     "execution_count": 90,
     "metadata": {},
     "output_type": "execute_result"
    }
   ],
   "source": [
    "# 여기에 답안코드를 작성하세요.\n",
    "# LogisticRegression\n",
    "\n",
    "from sklearn.linear_model import LogisticRegression\n",
    "\n",
    "model_logistic = LogisticRegression()\n",
    "model_logistic.fit(X_train, y_train)"
   ]
  },
  {
   "cell_type": "code",
   "execution_count": 91,
   "id": "fdd890b9-b12c-40ef-a2aa-629e1fa9105a",
   "metadata": {},
   "outputs": [
    {
     "data": {
      "text/plain": [
       "KNeighborsClassifier()"
      ]
     },
     "execution_count": 91,
     "metadata": {},
     "output_type": "execute_result"
    }
   ],
   "source": [
    "# 여기에 답안코드를 작성하세요.\n",
    "# KNN\n",
    "\n",
    "from sklearn.neighbors import KNeighborsClassifier\n",
    "\n",
    "model_KNN = KNeighborsClassifier(n_neighbors=5)\n",
    "model_KNN.fit(X_train, y_train)"
   ]
  },
  {
   "cell_type": "code",
   "execution_count": 92,
   "id": "6adcd304-bd2f-4623-b0da-3c632da8c91b",
   "metadata": {},
   "outputs": [
    {
     "data": {
      "text/plain": [
       "DecisionTreeClassifier(max_depth=10, random_state=42)"
      ]
     },
     "execution_count": 92,
     "metadata": {},
     "output_type": "execute_result"
    }
   ],
   "source": [
    "# 여기에 답안코드를 작성하세요.\n",
    "# Decision Tree\n",
    "\n",
    "from sklearn.tree import DecisionTreeClassifier\n",
    "\n",
    "model_DT = DecisionTreeClassifier(max_depth=10, random_state=42)\n",
    "model_DT.fit(X_train, y_train)"
   ]
  },
  {
   "cell_type": "code",
   "execution_count": 93,
   "id": "24c4a98c-e131-4d4d-b2e4-f504a3d593f4",
   "metadata": {},
   "outputs": [
    {
     "data": {
      "text/plain": [
       "RandomForestClassifier(n_estimators=3, random_state=42)"
      ]
     },
     "execution_count": 93,
     "metadata": {},
     "output_type": "execute_result"
    }
   ],
   "source": [
    "# 여기에 답안코드를 작성하세요.\n",
    "# Random Forest\n",
    "\n",
    "from sklearn.ensemble import RandomForestClassifier\n",
    "\n",
    "model_RF = RandomForestClassifier(n_estimators=3, random_state=42)\n",
    "model_RF.fit(X_train, y_train)"
   ]
  },
  {
   "cell_type": "code",
   "execution_count": 94,
   "id": "59d39690-cc4c-4c1b-85a9-ce0dabce51db",
   "metadata": {},
   "outputs": [
    {
     "data": {
      "text/plain": [
       "XGBClassifier(base_score=None, booster=None, callbacks=None,\n",
       "              colsample_bylevel=None, colsample_bynode=None,\n",
       "              colsample_bytree=None, early_stopping_rounds=None,\n",
       "              enable_categorical=False, eval_metric=None, feature_types=None,\n",
       "              gamma=None, gpu_id=None, grow_policy=None, importance_type=None,\n",
       "              interaction_constraints=None, learning_rate=None, max_bin=None,\n",
       "              max_cat_threshold=None, max_cat_to_onehot=None,\n",
       "              max_delta_step=None, max_depth=None, max_leaves=None,\n",
       "              min_child_weight=None, missing=nan, monotone_constraints=None,\n",
       "              n_estimators=3, n_jobs=None, num_parallel_tree=None,\n",
       "              predictor=None, random_state=42, ...)"
      ]
     },
     "execution_count": 94,
     "metadata": {},
     "output_type": "execute_result"
    }
   ],
   "source": [
    "# 여기에 답안코드를 작성하세요.\n",
    "# xgboost\n",
    "\n",
    "from xgboost import XGBClassifier\n",
    "\n",
    "model_XGB = XGBClassifier(n_estimators=3, random_state=42)\n",
    "model_XGB.fit(X_train, y_train)"
   ]
  },
  {
   "cell_type": "code",
   "execution_count": 95,
   "id": "787ed8df-1639-44a9-9837-d9d78990f479",
   "metadata": {},
   "outputs": [
    {
     "name": "stdout",
     "output_type": "stream",
     "text": [
      "[LightGBM] [Info] Number of positive: 1493, number of negative: 4128\n",
      "[LightGBM] [Warning] Auto-choosing row-wise multi-threading, the overhead of testing was 0.000158 seconds.\n",
      "You can set `force_row_wise=true` to remove the overhead.\n",
      "And if memory is not enough, you can set `force_col_wise=true`.\n",
      "[LightGBM] [Info] Total Bins 631\n",
      "[LightGBM] [Info] Number of data points in the train set: 5621, number of used features: 27\n",
      "[LightGBM] [Info] [binary:BoostFromScore]: pavg=0.265611 -> initscore=-1.017006\n",
      "[LightGBM] [Info] Start training from score -1.017006\n"
     ]
    },
    {
     "data": {
      "text/plain": [
       "LGBMClassifier(n_estimators=3, random_state=42)"
      ]
     },
     "execution_count": 95,
     "metadata": {},
     "output_type": "execute_result"
    }
   ],
   "source": [
    "# 여기에 답안코드를 작성하세요.\n",
    "# lgbm\n",
    "\n",
    "from lightgbm import LGBMClassifier\n",
    "\n",
    "model_lgbm = LGBMClassifier(n_estimators=3, random_state=42)\n",
    "model_lgbm.fit(X_train, y_train)"
   ]
  },
  {
   "cell_type": "markdown",
   "id": "91e435bf-c197-4157-b1b1-7238de931fec",
   "metadata": {},
   "source": [
    "### 14. 바로 위 모델의 성능을 평가하려고 합니다. \n",
    "### y값을 예측하여 confusion matrix를 구하고 heatmap 그래프로 시각화하세요. \n",
    "### 그리고 Scikit-learn의 classification_report를 활용하여 성능을 출력하세요."
   ]
  },
  {
   "cell_type": "code",
   "execution_count": 96,
   "id": "0726cd47-5619-4c1a-a27a-d80a72df5096",
   "metadata": {},
   "outputs": [
    {
     "data": {
      "image/png": "[encoded data removed]",
      "text/plain": [
       "<Figure size 640x480 with 1 Axes>"
      ]
     },
     "metadata": {},
     "output_type": "display_data"
    },
    {
     "name": "stdout",
     "output_type": "stream",
     "text": [
      "              precision    recall  f1-score   support\n",
      "\n",
      "           0       1.00      0.73      0.85      1406\n",
      "           1       0.00      0.00      0.00         0\n",
      "\n",
      "    accuracy                           0.73      1406\n",
      "   macro avg       0.50      0.37      0.42      1406\n",
      "weighted avg       1.00      0.73      0.85      1406\n",
      "\n"
     ]
    },
    {
     "name": "stderr",
     "output_type": "stream",
     "text": [
      "c:\\Users\\gkwjd\\anaconda3\\lib\\site-packages\\sklearn\\metrics\\_classification.py:1318: UndefinedMetricWarning: Recall and F-score are ill-defined and being set to 0.0 in labels with no true samples. Use `zero_division` parameter to control this behavior.\n",
      "  _warn_prf(average, modifier, msg_start, len(result))\n",
      "c:\\Users\\gkwjd\\anaconda3\\lib\\site-packages\\sklearn\\metrics\\_classification.py:1318: UndefinedMetricWarning: Recall and F-score are ill-defined and being set to 0.0 in labels with no true samples. Use `zero_division` parameter to control this behavior.\n",
      "  _warn_prf(average, modifier, msg_start, len(result))\n",
      "c:\\Users\\gkwjd\\anaconda3\\lib\\site-packages\\sklearn\\metrics\\_classification.py:1318: UndefinedMetricWarning: Recall and F-score are ill-defined and being set to 0.0 in labels with no true samples. Use `zero_division` parameter to control this behavior.\n",
      "  _warn_prf(average, modifier, msg_start, len(result))\n"
     ]
    }
   ],
   "source": [
    "# 여기에 답안코드를 작성하세요.\n",
    "\n",
    "from sklearn.metrics import confusion_matrix, classification_report\n",
    "\n",
    "y_pred_lgbm = model_lgbm.predict(X_valid)\n",
    "cm = confusion_matrix(y_pred_lgbm, y_valid)\n",
    "sns.heatmap(cm,\n",
    "            annot=True,\n",
    "            fmt='d',\n",
    "            cmap='Blues',\n",
    "            cbar=False,\n",
    "            square=True)\n",
    "\n",
    "plt.show()\n",
    "\n",
    "print(classification_report(y_pred_lgbm, y_valid))"
   ]
  },
  {
   "cell_type": "markdown",
   "id": "9d72df85-cb80-4f1b-a4db-01ea5b4ec30d",
   "metadata": {},
   "source": [
    "##### **<span style=\"color:red\">다음 문항을 풀기 전에</span> 아래 코드를 실행하세요.**"
   ]
  },
  {
   "cell_type": "code",
   "execution_count": 97,
   "id": "5f6e8b6d-f740-4d98-9189-78cdb98991d0",
   "metadata": {},
   "outputs": [],
   "source": [
    "import tensorflow as tf\n",
    "from tensorflow.keras.models import Sequential, load_model, Model\n",
    "from tensorflow.keras.layers import Dense, Activation, Dropout, BatchNormalization, Input\n",
    "from tensorflow.keras.callbacks import EarlyStopping, ModelCheckpoint\n",
    "from tensorflow.keras.utils import to_categorical\n",
    "\n",
    "tf.random.set_seed(1)"
   ]
  },
  {
   "cell_type": "code",
   "execution_count": 98,
   "id": "d93ca7c2",
   "metadata": {},
   "outputs": [
    {
     "data": {
      "text/plain": [
       "(5621, 27)"
      ]
     },
     "execution_count": 98,
     "metadata": {},
     "output_type": "execute_result"
    }
   ],
   "source": [
    "X_train.shape"
   ]
  },
  {
   "cell_type": "markdown",
   "id": "67187f70-3bea-4266-8b91-25e67c2b71c7",
   "metadata": {},
   "source": [
    "### 15. 고객 이탈여부를 예측하는 딥러닝 모델을 만들려고 합니다.\n",
    "### 아래 가이드에 따라 모델링하고 학습을 진행하세요.\n",
    "* Tensoflow framework를 사용하여 딥러닝 모델을 만드세요.\n",
    "* 히든레이어(hidden layer) 2개이상으로 모델을 구성하세요.\n",
    "* dropout 비율 0.2로 Dropout 레이어 1개를 추가해 주세요.\n",
    "* 손실함수는 MSE(Mean Squared Error)를 사용하세요.\n",
    "* 하이퍼파라미터 epochs: 30, batch_size: 16으로 설정해주세요.\n",
    "* 각 에포크마다 loss와 metrics 평가하기 위한 데이터로 X_valid, y_valid 사용하세요.\n",
    "* 학습정보는 history 변수에 저장해주세요"
   ]
  },
  {
   "cell_type": "code",
   "execution_count": 99,
   "id": "82368f4a",
   "metadata": {},
   "outputs": [
    {
     "data": {
      "text/plain": [
       "(1406,)"
      ]
     },
     "execution_count": 99,
     "metadata": {},
     "output_type": "execute_result"
    }
   ],
   "source": [
    "y_valid.shape"
   ]
  },
  {
   "cell_type": "code",
   "execution_count": 100,
   "id": "df129f00-16d9-427b-adef-af90f3ab177c",
   "metadata": {},
   "outputs": [
    {
     "name": "stdout",
     "output_type": "stream",
     "text": [
      "Epoch 1/30\n",
      "352/352 [==============================] - 1s 2ms/step - loss: 0.5223 - accuracy: 0.7319 - val_loss: 0.4550 - val_accuracy: 0.7817\n",
      "Epoch 2/30\n",
      "352/352 [==============================] - 1s 2ms/step - loss: 0.4500 - accuracy: 0.7872 - val_loss: 0.4454 - val_accuracy: 0.7831\n",
      "Epoch 3/30\n",
      "352/352 [==============================] - 1s 2ms/step - loss: 0.4434 - accuracy: 0.7910 - val_loss: 0.4427 - val_accuracy: 0.7852\n",
      "Epoch 4/30\n",
      "352/352 [==============================] - 1s 2ms/step - loss: 0.4413 - accuracy: 0.7926 - val_loss: 0.4401 - val_accuracy: 0.7873\n",
      "Epoch 5/30\n",
      "352/352 [==============================] - 1s 2ms/step - loss: 0.4325 - accuracy: 0.7974 - val_loss: 0.4353 - val_accuracy: 0.7909\n",
      "Epoch 6/30\n",
      "352/352 [==============================] - 1s 2ms/step - loss: 0.4282 - accuracy: 0.8048 - val_loss: 0.4321 - val_accuracy: 0.7881\n",
      "Epoch 7/30\n",
      "352/352 [==============================] - 1s 2ms/step - loss: 0.4287 - accuracy: 0.8015 - val_loss: 0.4297 - val_accuracy: 0.7888\n",
      "Epoch 8/30\n",
      "352/352 [==============================] - 1s 2ms/step - loss: 0.4310 - accuracy: 0.7981 - val_loss: 0.4322 - val_accuracy: 0.7916\n",
      "Epoch 9/30\n",
      "352/352 [==============================] - 1s 1ms/step - loss: 0.4272 - accuracy: 0.8013 - val_loss: 0.4291 - val_accuracy: 0.7930\n",
      "Epoch 10/30\n",
      "352/352 [==============================] - 1s 2ms/step - loss: 0.4246 - accuracy: 0.8011 - val_loss: 0.4279 - val_accuracy: 0.7909\n",
      "Epoch 11/30\n",
      "352/352 [==============================] - 1s 2ms/step - loss: 0.4239 - accuracy: 0.8047 - val_loss: 0.4295 - val_accuracy: 0.7945\n",
      "Epoch 12/30\n",
      "352/352 [==============================] - 1s 2ms/step - loss: 0.4265 - accuracy: 0.8038 - val_loss: 0.4297 - val_accuracy: 0.7881\n",
      "Epoch 13/30\n",
      "352/352 [==============================] - 1s 2ms/step - loss: 0.4230 - accuracy: 0.8057 - val_loss: 0.4264 - val_accuracy: 0.7881\n",
      "Epoch 14/30\n",
      "352/352 [==============================] - 1s 2ms/step - loss: 0.4211 - accuracy: 0.8098 - val_loss: 0.4259 - val_accuracy: 0.7895\n",
      "Epoch 15/30\n",
      "352/352 [==============================] - 1s 2ms/step - loss: 0.4208 - accuracy: 0.8056 - val_loss: 0.4266 - val_accuracy: 0.7909\n",
      "Epoch 16/30\n",
      "352/352 [==============================] - 1s 2ms/step - loss: 0.4193 - accuracy: 0.8061 - val_loss: 0.4244 - val_accuracy: 0.7923\n",
      "Epoch 17/30\n",
      "352/352 [==============================] - 1s 2ms/step - loss: 0.4189 - accuracy: 0.8088 - val_loss: 0.4251 - val_accuracy: 0.7888\n",
      "Epoch 18/30\n",
      "352/352 [==============================] - 1s 2ms/step - loss: 0.4157 - accuracy: 0.8093 - val_loss: 0.4247 - val_accuracy: 0.7895\n",
      "Epoch 19/30\n",
      "352/352 [==============================] - 1s 2ms/step - loss: 0.4136 - accuracy: 0.8045 - val_loss: 0.4241 - val_accuracy: 0.7859\n",
      "Epoch 20/30\n",
      "352/352 [==============================] - 1s 2ms/step - loss: 0.4170 - accuracy: 0.8080 - val_loss: 0.4240 - val_accuracy: 0.7895\n",
      "Epoch 21/30\n",
      "352/352 [==============================] - 1s 2ms/step - loss: 0.4137 - accuracy: 0.8105 - val_loss: 0.4235 - val_accuracy: 0.7902\n",
      "Epoch 22/30\n",
      "352/352 [==============================] - 1s 2ms/step - loss: 0.4174 - accuracy: 0.8111 - val_loss: 0.4234 - val_accuracy: 0.7902\n",
      "Epoch 23/30\n",
      "352/352 [==============================] - 1s 2ms/step - loss: 0.4163 - accuracy: 0.8075 - val_loss: 0.4224 - val_accuracy: 0.7937\n",
      "Epoch 24/30\n",
      "352/352 [==============================] - 1s 2ms/step - loss: 0.4142 - accuracy: 0.8096 - val_loss: 0.4211 - val_accuracy: 0.7881\n",
      "Epoch 25/30\n",
      "352/352 [==============================] - 1s 2ms/step - loss: 0.4116 - accuracy: 0.8155 - val_loss: 0.4214 - val_accuracy: 0.7888\n",
      "Epoch 26/30\n",
      "352/352 [==============================] - 1s 2ms/step - loss: 0.4136 - accuracy: 0.8105 - val_loss: 0.4220 - val_accuracy: 0.7888\n",
      "Epoch 27/30\n",
      "352/352 [==============================] - 1s 2ms/step - loss: 0.4098 - accuracy: 0.8132 - val_loss: 0.4199 - val_accuracy: 0.7923\n",
      "Epoch 28/30\n",
      "352/352 [==============================] - 1s 2ms/step - loss: 0.4126 - accuracy: 0.8111 - val_loss: 0.4216 - val_accuracy: 0.7873\n",
      "Epoch 29/30\n",
      "352/352 [==============================] - 1s 2ms/step - loss: 0.4085 - accuracy: 0.8120 - val_loss: 0.4219 - val_accuracy: 0.7866\n",
      "Epoch 30/30\n",
      "352/352 [==============================] - 1s 2ms/step - loss: 0.4109 - accuracy: 0.8066 - val_loss: 0.4222 - val_accuracy: 0.7881\n"
     ]
    }
   ],
   "source": [
    "# 여기에 답안코드를 작성하세요.\n",
    "from tensorflow.keras.backend import clear_session\n",
    "\n",
    "clear_session()\n",
    "\n",
    "X = Input(shape=(X_train.shape[1]))\n",
    "H = Dense(32, activation='relu')(X)\n",
    "H = Dropout(0.2)(H)\n",
    "H = Dense(8, activation='relu')(H)\n",
    "H = Dropout(0.2)(H)\n",
    "Y = Dense(1, activation='sigmoid')(H)\n",
    "model = Model(X, Y)\n",
    "\n",
    "model.compile(loss='binary_crossentropy', optimizer='adam', metrics=['accuracy'])\n",
    "\n",
    "history = model.fit(X_train, y_train, epochs=30, batch_size=16, validation_data=[X_valid, y_valid])"
   ]
  },
  {
   "cell_type": "markdown",
   "id": "12f33874-3f1e-4b63-ba3e-91d90ee5e512",
   "metadata": {},
   "source": [
    "<br>"
   ]
  },
  {
   "cell_type": "markdown",
   "id": "8989c197-ec84-4192-955d-1c52d34cb006",
   "metadata": {},
   "source": [
    "### 16. 위 딥러닝 모델의 성능을 평가하려고 합니다.\n",
    "### Matplotlib 라이브러리 활용해서 학습 mse와 검증 mse를 그래프로 표시하세요.\n",
    "* 1개의 그래프에 학습 accuracy와 검증 accuracy 2가지를 모두 표시하세요.\n",
    "* 위 2가지 각각의 범례를 'acc', 'val_macc'로 표시하세요.\n",
    "* 그래프의 타이틀은 'Accuracy'로 표시하세요.\n",
    "* X축에는 'Epochs'라고 표시하고 Y축에는 'Acc'라고 표시하세요."
   ]
  },
  {
   "cell_type": "code",
   "execution_count": 101,
   "id": "e5094d66-0b51-45bf-89f0-07af04d7909e",
   "metadata": {},
   "outputs": [
    {
     "data": {
      "image/png": "[encoded data removed]",
      "text/plain": [
       "<Figure size 640x480 with 1 Axes>"
      ]
     },
     "metadata": {},
     "output_type": "display_data"
    }
   ],
   "source": [
    "# 여기에 답안코드를 작성하세요.\n",
    "\n",
    "accuracy = history.history['accuracy']\n",
    "val_accuracy = history.history['val_accuracy']\n",
    "\n",
    "plt.plot(accuracy, label='acc')\n",
    "plt.plot(val_accuracy, label='val_acc')\n",
    "plt.title('Accuracy')\n",
    "plt.xlabel('Epochs')\n",
    "plt.ylabel('Acc')\n",
    "plt.legend()\n",
    "plt.show()"
   ]
  },
  {
   "cell_type": "markdown",
   "id": "039f72f3-13cd-4b6b-8007-e46c3cb35639",
   "metadata": {},
   "source": [
    "### [선택] 모든 과정을 수행한 후에는 머신러닝, 딥러닝 모델의 성능을 향상시켜보세요."
   ]
  }
 ],
 "metadata": {
  "kernelspec": {
   "display_name": "Python 3 (ipykernel)",
   "language": "python",
   "name": "python3"
  },
  "language_info": {
   "codemirror_mode": {
    "name": "ipython",
    "version": 3
   },
   "file_extension": ".py",
   "mimetype": "text/x-python",
   "name": "python",
   "nbconvert_exporter": "python",
   "pygments_lexer": "ipython3",
   "version": "3.9.13"
  }
 },
 "nbformat": 4,
 "nbformat_minor": 5
}
